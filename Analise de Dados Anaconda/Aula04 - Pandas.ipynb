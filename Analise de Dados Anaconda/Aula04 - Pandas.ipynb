{
 "cells": [
  {
   "cell_type": "code",
   "execution_count": 16,
   "metadata": {},
   "outputs": [
    {
     "name": "stdout",
     "output_type": "stream",
     "text": [
      "0    3\n",
      "1    2\n",
      "Name: apples, dtype: int64\n",
      "2    0\n",
      "3    1\n",
      "Name: apples, dtype: int64\n",
      "1\n",
      "(4,)\n",
      "1.5\n",
      "3\n",
      "0\n"
     ]
    }
   ],
   "source": [
    "# Serie em Pandas\n",
    "\n",
    "import numpy as np\n",
    "import pandas as pd\n",
    "\n",
    "apples=[3,2,0,1]\n",
    "s=pd.Series(apples, name='apples',dtype=np.int64)\n",
    "\n",
    "#print(s)\n",
    "#print(s.head(2))\n",
    "#print(type(s))\n",
    "#print(dir(s))\n",
    "\n",
    "print(s.head(2))\n",
    "print(s.tail(2))\n",
    "print(s.ndim)\n",
    "print(s.shape)\n",
    "print(s.mean())\n",
    "print(s.max())\n",
    "print(s.min())"
   ]
  },
  {
   "cell_type": "code",
   "execution_count": 35,
   "metadata": {},
   "outputs": [],
   "source": [
    "# DataFrame em Pandas\n",
    "# Series + Series = Tabela\n",
    "\n",
    "d={'apples': [3,2,0,1], 'oranges': [0,3,7,2]}\n",
    "df=pd.DataFrame(d)\n",
    "\n",
    "#df\n",
    "#print(df)\n",
    "#df.head(2)\n",
    "#print(df.ndim)\n",
    "#print(df.shape)\n",
    "#print(df.mean())\n",
    "#print(df.max())\n",
    "#print(df.min())\n",
    "#print(df.T)\n"
   ]
  },
  {
   "cell_type": "code",
   "execution_count": 46,
   "metadata": {},
   "outputs": [
    {
     "name": "stdout",
     "output_type": "stream",
     "text": [
      "   apples  oranges\n",
      "A       3        0\n",
      "B       2        3\n",
      "C       0        7\n",
      "D       1        2\n"
     ]
    }
   ],
   "source": [
    "d={'apples': [3,2,0,1], 'oranges': [0,3,7,2]}\n",
    "df=pd.DataFrame(d)\n",
    "\n",
    "#print([x for x in df.index])\n",
    "#print([x for x in df.columns])\n",
    "#print(df.index)\n",
    "\n",
    "d={'apples': {'A': 3, 'B': 2, 'C': 0, 'D': 1}, 'oranges': {'A': 0, 'B': 3, 'C': 7, 'D': 2}}\n",
    "df=pd.DataFrame(d)\n",
    "print(df)\n",
    "\n",
    "#print([x for x in df.index])\n",
    "#print([x for x in df.columns])"
   ]
  },
  {
   "cell_type": "code",
   "execution_count": 51,
   "metadata": {},
   "outputs": [
    {
     "name": "stdout",
     "output_type": "stream",
     "text": [
      "   apples  oranges  bananas  avocados\n",
      "0       3        0        1         9\n",
      "1       2        3        3         0\n",
      "2       0        7        5         0\n",
      "3       1        2        4         1\n",
      "   Unnamed: 0  apples  oranges  bananas  avocados\n",
      "0           0       3        0        1         9\n",
      "1           1       2        3        3         0\n",
      "2           2       0        7        5         0\n",
      "3           3       1        2        4         1\n"
     ]
    }
   ],
   "source": [
    "d = {'apples': [3,2,0,1],'oranges': [0,3,7,2], 'bananas': [1,3,5,4], 'avocados': [9,0,0,1]}\n",
    "\n",
    "df0=pd.DataFrame(d)\n",
    "print(df0)\n",
    "\n",
    "df0.to_csv('output.csv', sep=';',encoding='utf-8', index=True) # Escrevendo um csv\n",
    "\n",
    "df1=pd.read_csv('output.csv', sep=';', encoding='utf-8') # Lendo um csv\n",
    "\n",
    "print(df1)"
   ]
  },
  {
   "cell_type": "code",
   "execution_count": 71,
   "metadata": {},
   "outputs": [
    {
     "name": "stdout",
     "output_type": "stream",
     "text": [
      "   apples  oranges  bananas  avocados\n",
      "A       3        0        1         9\n",
      "B       2        3        3         0\n",
      "C       0        7        5         0\n",
      "D       1        2        4         1\n",
      "   avocados  apples  oranges  bananas\n",
      "A         9       3        0        1\n",
      "B         0       2        3        3\n",
      "C         0       0        7        5\n",
      "D         1       1        2        4\n"
     ]
    }
   ],
   "source": [
    "d={ 'apples' : { 'A' : 3 , 'B' : 2 , 'C' : 0 , 'D' : 1 } ,\n",
    "'oranges' : { 'A' : 0 , 'B' : 3 , 'C' : 7 , 'D' : 2 } ,\n",
    "'bananas' : { 'A' : 1 , 'B' : 3 , 'C' : 5 , 'D' : 4 } ,\n",
    "'avocados' : { 'A' : 9 , 'B' : 0 , 'C' : 0 , 'D' : 1}}\n",
    "\n",
    "df=pd.DataFrame(d)\n",
    "#print(df)\n",
    "\n",
    "#print(df.sort_index(axis=0, ascending=False))\n",
    "#print(df.sort_index(axis=1, ascending=False))\n",
    "#print(df.sort_values(by='oranges'))\n",
    "#print(df.sort_values(by=['avocados', 'apples']))\n",
    "#print(df.sort_values(by='oranges', axis=0))\n",
    "#print(df)\n",
    "#print(df.sort_values(by='B', axis=1))\n",
    "print(df)\n",
    "df.sort_values(by='B', axis=1, inplace=True)\n",
    "print(df)"
   ]
  },
  {
   "cell_type": "code",
   "execution_count": 107,
   "metadata": {},
   "outputs": [
    {
     "name": "stdout",
     "output_type": "stream",
     "text": [
      "3\n",
      "2\n",
      "0\n",
      "1\n"
     ]
    }
   ],
   "source": [
    "d={ 'apples' : { 'A' : 3 , 'B' : 2 , 'C' : 0 , 'D' : 1 } ,\n",
    "'oranges' : { 'A' : 0 , 'B' : 3 , 'C' : 7 , 'D' : 2 } ,\n",
    "'bananas' : { 'A' : 1 , 'B' : 3 , 'C' : 5 , 'D' : 4 } ,\n",
    "'avocados' : { 'A' : 9 , 'B' : 0 , 'C' : 0 , 'D' : 1}}\n",
    "\n",
    "df=pd.DataFrame(d)\n",
    "\n",
    "#print(df)\n",
    "\n",
    "#print(df['oranges'])\n",
    "#print(type(df['oranges']))\n",
    "#print(df['oranges'][0])\n",
    "#print(df.oranges)\n",
    "#print(df.oranges[0:2])\n",
    "#print(df[0:3])\n",
    "\n",
    "df['oranges'][0]=99\n",
    "#print(df)\n",
    "\n",
    "#linha=df.loc['A']\n",
    "#print(type(linha))\n",
    "#print(linha)\n",
    "\n",
    "#linhas=df.loc[:,['oranges', 'bananas']]\n",
    "#print(type(linhas))\n",
    "#print(linhas)\n",
    "\n",
    "#print(df.loc['A', 'oranges']) #df.at['A', 'oranges'] #at é mais rápido na consulta\n",
    "\n",
    "#print(df.iloc[3])\n",
    "#print(df.iloc[0:2, 0:2])\n",
    "#print(df.iloc[[0,2], 0:2]) #Recorte não sequencial\n",
    "\n",
    "#print(df.iloc[2,2]) # df.iat[2,2]\n",
    "\n",
    "#for indice in df.index:\n",
    "#    print(df.loc[indice, 'apples'])\n",
    "    \n",
    "#for i in range(df.shape[0]):\n",
    "    #print(df.iloc[i,0])"
   ]
  },
  {
   "cell_type": "code",
   "execution_count": 113,
   "metadata": {},
   "outputs": [
    {
     "name": "stdout",
     "output_type": "stream",
     "text": [
      "   apples  oranges  bananas  avocados\n",
      "A       3        0        1         9\n",
      "B       2        3        3         0\n",
      "   apples  oranges  bananas  avocados\n",
      "0       3        0        1         9\n",
      "1       2        3        3         0\n"
     ]
    }
   ],
   "source": [
    "d={ 'apples' : { 'A' : 3 , 'B' : 2 , 'C' : 0 , 'D' : 1 } ,\n",
    "'oranges' : { 'A' : 0 , 'B' : 3 , 'C' : 7 , 'D' : 2 } ,\n",
    "'bananas' : { 'A' : 1 , 'B' : 3 , 'C' : 5 , 'D' : 4 } ,\n",
    "'avocados' : { 'A' : 9 , 'B' : 0 , 'C' : 0 , 'D' : 1}}\n",
    "\n",
    "df=pd.DataFrame(d)\n",
    "\n",
    "#print(df.dropna(axis=0, how='any')) # Removendo linhas sem valores\n",
    "#print(df.dropna(axis=1, how='any')) # Removendo colunas sem valores\n",
    "\n",
    "#print(df.drop_duplicates(keep='first'))\n",
    "#print(df.T.drop_duplicates(keep='first').T)\n",
    "print(df[df.apples > 1]) # Filtro dentro do DataFrame\n",
    "print(df[df.apples > 1].reset_index(drop=True))"
   ]
  },
  {
   "cell_type": "code",
   "execution_count": null,
   "metadata": {},
   "outputs": [],
   "source": []
  }
 ],
 "metadata": {
  "kernelspec": {
   "display_name": "Python 3",
   "language": "python",
   "name": "python3"
  },
  "language_info": {
   "codemirror_mode": {
    "name": "ipython",
    "version": 3
   },
   "file_extension": ".py",
   "mimetype": "text/x-python",
   "name": "python",
   "nbconvert_exporter": "python",
   "pygments_lexer": "ipython3",
   "version": "3.7.3"
  }
 },
 "nbformat": 4,
 "nbformat_minor": 2
}
