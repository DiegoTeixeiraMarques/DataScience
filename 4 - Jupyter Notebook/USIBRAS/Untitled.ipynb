{
 "cells": [
  {
   "cell_type": "code",
   "execution_count": 1,
   "metadata": {},
   "outputs": [],
   "source": [
    "import pandas as pd"
   ]
  },
  {
   "cell_type": "code",
   "execution_count": 5,
   "metadata": {},
   "outputs": [],
   "source": [
    "df = pd.read_excel('BASE PRODUCAO.xlsx', index_col=0)"
   ]
  },
  {
   "cell_type": "code",
   "execution_count": 9,
   "metadata": {},
   "outputs": [
    {
     "data": {
      "text/html": [
       "<div>\n",
       "<style scoped>\n",
       "    .dataframe tbody tr th:only-of-type {\n",
       "        vertical-align: middle;\n",
       "    }\n",
       "\n",
       "    .dataframe tbody tr th {\n",
       "        vertical-align: top;\n",
       "    }\n",
       "\n",
       "    .dataframe thead th {\n",
       "        text-align: right;\n",
       "    }\n",
       "</style>\n",
       "<table border=\"1\" class=\"dataframe\">\n",
       "  <thead>\n",
       "    <tr style=\"text-align: right;\">\n",
       "      <th></th>\n",
       "      <th>D3_OP</th>\n",
       "      <th>D3_COD</th>\n",
       "      <th>D3_CF</th>\n",
       "      <th>D3_TM</th>\n",
       "      <th>B1_DESC</th>\n",
       "      <th>D3_QUANT</th>\n",
       "      <th>D3_DOC</th>\n",
       "      <th>DATA</th>\n",
       "      <th>D3_USUARIO</th>\n",
       "      <th>D3_CUSTO1</th>\n",
       "      <th>CUSTO_UNITARIO</th>\n",
       "      <th>D3_PERDA</th>\n",
       "    </tr>\n",
       "    <tr>\n",
       "      <th>D3_FILIAL</th>\n",
       "      <th></th>\n",
       "      <th></th>\n",
       "      <th></th>\n",
       "      <th></th>\n",
       "      <th></th>\n",
       "      <th></th>\n",
       "      <th></th>\n",
       "      <th></th>\n",
       "      <th></th>\n",
       "      <th></th>\n",
       "      <th></th>\n",
       "      <th></th>\n",
       "    </tr>\n",
       "  </thead>\n",
       "  <tbody>\n",
       "    <tr>\n",
       "      <td>2</td>\n",
       "      <td>9878801001</td>\n",
       "      <td>61090083</td>\n",
       "      <td>RE1</td>\n",
       "      <td>999</td>\n",
       "      <td>FILME+PETCRIS12MIC+HI FILM MB CRIST 65MIC CAJU...</td>\n",
       "      <td>6.667</td>\n",
       "      <td>YUJLTM23E</td>\n",
       "      <td>2016-02-12</td>\n",
       "      <td>DPA2-CE</td>\n",
       "      <td>110.2555</td>\n",
       "      <td>16.5375</td>\n",
       "      <td>0.0</td>\n",
       "    </tr>\n",
       "    <tr>\n",
       "      <td>2</td>\n",
       "      <td>9878801001</td>\n",
       "      <td>61090083</td>\n",
       "      <td>RE1</td>\n",
       "      <td>999</td>\n",
       "      <td>FILME+PETCRIS12MIC+HI FILM MB CRIST 65MIC CAJU...</td>\n",
       "      <td>10.000</td>\n",
       "      <td>YUJLTM23U</td>\n",
       "      <td>2016-02-12</td>\n",
       "      <td>DPA2-CE</td>\n",
       "      <td>165.3750</td>\n",
       "      <td>16.5375</td>\n",
       "      <td>0.0</td>\n",
       "    </tr>\n",
       "    <tr>\n",
       "      <td>2</td>\n",
       "      <td>9878801001</td>\n",
       "      <td>61090083</td>\n",
       "      <td>RE1</td>\n",
       "      <td>999</td>\n",
       "      <td>FILME+PETCRIS12MIC+HI FILM MB CRIST 65MIC CAJU...</td>\n",
       "      <td>14.400</td>\n",
       "      <td>YUJLTM24V</td>\n",
       "      <td>2016-02-15</td>\n",
       "      <td>DPA2-CE</td>\n",
       "      <td>238.1400</td>\n",
       "      <td>16.5375</td>\n",
       "      <td>0.0</td>\n",
       "    </tr>\n",
       "    <tr>\n",
       "      <td>2</td>\n",
       "      <td>9880601001</td>\n",
       "      <td>61090153</td>\n",
       "      <td>RE1</td>\n",
       "      <td>999</td>\n",
       "      <td>FILME PET CRISTAL 16,8+TINTAS-BOPPMETHB 15,5+A...</td>\n",
       "      <td>2.484</td>\n",
       "      <td>YUJLTM25Y</td>\n",
       "      <td>2016-02-15</td>\n",
       "      <td>DPA2-CE</td>\n",
       "      <td>80.4982</td>\n",
       "      <td>32.4067</td>\n",
       "      <td>0.0</td>\n",
       "    </tr>\n",
       "    <tr>\n",
       "      <td>2</td>\n",
       "      <td>9878801001</td>\n",
       "      <td>61090083</td>\n",
       "      <td>RE1</td>\n",
       "      <td>999</td>\n",
       "      <td>FILME+PETCRIS12MIC+HI FILM MB CRIST 65MIC CAJU...</td>\n",
       "      <td>7.867</td>\n",
       "      <td>YUJLTM25Z</td>\n",
       "      <td>2016-02-15</td>\n",
       "      <td>DPA2-CE</td>\n",
       "      <td>130.1005</td>\n",
       "      <td>16.5375</td>\n",
       "      <td>0.0</td>\n",
       "    </tr>\n",
       "  </tbody>\n",
       "</table>\n",
       "</div>"
      ],
      "text/plain": [
       "                D3_OP           D3_COD D3_CF  D3_TM  \\\n",
       "D3_FILIAL                                             \n",
       "2          9878801001  61090083          RE1    999   \n",
       "2          9878801001  61090083          RE1    999   \n",
       "2          9878801001  61090083          RE1    999   \n",
       "2          9880601001  61090153          RE1    999   \n",
       "2          9878801001  61090083          RE1    999   \n",
       "\n",
       "                                                     B1_DESC  D3_QUANT  \\\n",
       "D3_FILIAL                                                                \n",
       "2          FILME+PETCRIS12MIC+HI FILM MB CRIST 65MIC CAJU...     6.667   \n",
       "2          FILME+PETCRIS12MIC+HI FILM MB CRIST 65MIC CAJU...    10.000   \n",
       "2          FILME+PETCRIS12MIC+HI FILM MB CRIST 65MIC CAJU...    14.400   \n",
       "2          FILME PET CRISTAL 16,8+TINTAS-BOPPMETHB 15,5+A...     2.484   \n",
       "2          FILME+PETCRIS12MIC+HI FILM MB CRIST 65MIC CAJU...     7.867   \n",
       "\n",
       "              D3_DOC       DATA       D3_USUARIO  D3_CUSTO1  CUSTO_UNITARIO  \\\n",
       "D3_FILIAL                                                                     \n",
       "2          YUJLTM23E 2016-02-12  DPA2-CE           110.2555         16.5375   \n",
       "2          YUJLTM23U 2016-02-12  DPA2-CE           165.3750         16.5375   \n",
       "2          YUJLTM24V 2016-02-15  DPA2-CE           238.1400         16.5375   \n",
       "2          YUJLTM25Y 2016-02-15  DPA2-CE            80.4982         32.4067   \n",
       "2          YUJLTM25Z 2016-02-15  DPA2-CE           130.1005         16.5375   \n",
       "\n",
       "           D3_PERDA  \n",
       "D3_FILIAL            \n",
       "2               0.0  \n",
       "2               0.0  \n",
       "2               0.0  \n",
       "2               0.0  \n",
       "2               0.0  "
      ]
     },
     "execution_count": 9,
     "metadata": {},
     "output_type": "execute_result"
    }
   ],
   "source": [
    "df.head()"
   ]
  },
  {
   "cell_type": "code",
   "execution_count": 18,
   "metadata": {},
   "outputs": [
    {
     "name": "stdout",
     "output_type": "stream",
     "text": [
      "D3_OP             0\n",
      "D3_COD            0\n",
      "D3_CF             0\n",
      "D3_TM             0\n",
      "B1_DESC           0\n",
      "D3_QUANT          0\n",
      "D3_DOC            0\n",
      "DATA              0\n",
      "D3_USUARIO        0\n",
      "D3_CUSTO1         0\n",
      "CUSTO_UNITARIO    0\n",
      "D3_PERDA          0\n",
      "dtype: int64\n",
      "Index(['D3_OP', 'D3_COD', 'D3_CF', 'D3_TM', 'B1_DESC', 'D3_QUANT', 'D3_DOC',\n",
      "       'DATA', 'D3_USUARIO', 'D3_CUSTO1', 'CUSTO_UNITARIO', 'D3_PERDA'],\n",
      "      dtype='object')\n"
     ]
    }
   ],
   "source": [
    "print(df.isnull().sum())\n",
    "print(df.columns)"
   ]
  },
  {
   "cell_type": "code",
   "execution_count": 19,
   "metadata": {},
   "outputs": [
    {
     "data": {
      "text/plain": [
       "array([999, 101, 105, 499, 119, 120], dtype=int64)"
      ]
     },
     "execution_count": 19,
     "metadata": {},
     "output_type": "execute_result"
    }
   ],
   "source": [
    "df.D3_TM.unique()"
   ]
  },
  {
   "cell_type": "code",
   "execution_count": 61,
   "metadata": {},
   "outputs": [
    {
     "data": {
      "text/plain": [
       "D3_FILIAL\n",
       "2    False\n",
       "2    False\n",
       "2    False\n",
       "2    False\n",
       "2    False\n",
       "     ...  \n",
       "2    False\n",
       "2    False\n",
       "2    False\n",
       "2    False\n",
       "2    False\n",
       "Name: D3_TM, Length: 312044, dtype: bool"
      ]
     },
     "execution_count": 61,
     "metadata": {},
     "output_type": "execute_result"
    }
   ],
   "source": [
    "df['D3_TM'] == 105"
   ]
  },
  {
   "cell_type": "code",
   "execution_count": 63,
   "metadata": {},
   "outputs": [
    {
     "data": {
      "text/plain": [
       "array([999, 101, 105, 499, 119, 120], dtype=int64)"
      ]
     },
     "execution_count": 63,
     "metadata": {},
     "output_type": "execute_result"
    }
   ],
   "source": [
    "df.D3_TM.unique()"
   ]
  },
  {
   "cell_type": "code",
   "execution_count": null,
   "metadata": {},
   "outputs": [],
   "source": []
  }
 ],
 "metadata": {
  "kernelspec": {
   "display_name": "Python 3",
   "language": "python",
   "name": "python3"
  },
  "language_info": {
   "codemirror_mode": {
    "name": "ipython",
    "version": 3
   },
   "file_extension": ".py",
   "mimetype": "text/x-python",
   "name": "python",
   "nbconvert_exporter": "python",
   "pygments_lexer": "ipython3",
   "version": "3.7.3"
  }
 },
 "nbformat": 4,
 "nbformat_minor": 2
}
