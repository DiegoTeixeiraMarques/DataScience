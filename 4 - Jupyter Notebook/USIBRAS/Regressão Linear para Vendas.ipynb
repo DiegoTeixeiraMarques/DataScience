{
 "cells": [
  {
   "cell_type": "code",
   "execution_count": 50,
   "metadata": {},
   "outputs": [],
   "source": [
    "import pandas as pd\n",
    "import numpy as np"
   ]
  },
  {
   "cell_type": "code",
   "execution_count": 18,
   "metadata": {},
   "outputs": [],
   "source": [
    "df = pd.read_excel(\"Faturados.xlsx\", index_col = 0)"
   ]
  },
  {
   "cell_type": "code",
   "execution_count": 19,
   "metadata": {},
   "outputs": [
    {
     "data": {
      "text/html": [
       "<div>\n",
       "<style scoped>\n",
       "    .dataframe tbody tr th:only-of-type {\n",
       "        vertical-align: middle;\n",
       "    }\n",
       "\n",
       "    .dataframe tbody tr th {\n",
       "        vertical-align: top;\n",
       "    }\n",
       "\n",
       "    .dataframe thead th {\n",
       "        text-align: right;\n",
       "    }\n",
       "</style>\n",
       "<table border=\"1\" class=\"dataframe\">\n",
       "  <thead>\n",
       "    <tr style=\"text-align: right;\">\n",
       "      <th></th>\n",
       "      <th>EMISSAO_PEDIDO</th>\n",
       "      <th>ENTREGA_PEDIDO</th>\n",
       "      <th>PEDIDO</th>\n",
       "      <th>CODIGO_CLIENTE</th>\n",
       "      <th>LOJA_CLIENTE</th>\n",
       "      <th>NOME_CLIENTE</th>\n",
       "      <th>ESTADO_CLIENTE</th>\n",
       "      <th>CIDADE_CLIENTE</th>\n",
       "      <th>PAIS</th>\n",
       "      <th>SEGMENTO</th>\n",
       "      <th>...</th>\n",
       "      <th>VL_UNIT_VENDIDO</th>\n",
       "      <th>VL_TOTAL_VENDIDO</th>\n",
       "      <th>NOTA_FISCAL</th>\n",
       "      <th>SERIE_NOTA</th>\n",
       "      <th>EMISSAO_NOTA</th>\n",
       "      <th>CFOP</th>\n",
       "      <th>BONIFICACAO</th>\n",
       "      <th>QTDE_FATURADA</th>\n",
       "      <th>VL_UNIT_FATURADO</th>\n",
       "      <th>VL_TOTAL_FATURADO</th>\n",
       "    </tr>\n",
       "    <tr>\n",
       "      <th>FILIAL</th>\n",
       "      <th></th>\n",
       "      <th></th>\n",
       "      <th></th>\n",
       "      <th></th>\n",
       "      <th></th>\n",
       "      <th></th>\n",
       "      <th></th>\n",
       "      <th></th>\n",
       "      <th></th>\n",
       "      <th></th>\n",
       "      <th></th>\n",
       "      <th></th>\n",
       "      <th></th>\n",
       "      <th></th>\n",
       "      <th></th>\n",
       "      <th></th>\n",
       "      <th></th>\n",
       "      <th></th>\n",
       "      <th></th>\n",
       "      <th></th>\n",
       "      <th></th>\n",
       "    </tr>\n",
       "  </thead>\n",
       "  <tbody>\n",
       "    <tr>\n",
       "      <td>1</td>\n",
       "      <td>2018-10-16</td>\n",
       "      <td>2019-04-18</td>\n",
       "      <td>052921</td>\n",
       "      <td>I8I9BA</td>\n",
       "      <td>F3</td>\n",
       "      <td>FRUISEC S.A</td>\n",
       "      <td>EX</td>\n",
       "      <td>EXTERIOR</td>\n",
       "      <td>FRANCA</td>\n",
       "      <td>ATACADO</td>\n",
       "      <td>...</td>\n",
       "      <td>143.470571</td>\n",
       "      <td>100429.4</td>\n",
       "      <td>41665</td>\n",
       "      <td>1</td>\n",
       "      <td>2019-04-12</td>\n",
       "      <td>7101</td>\n",
       "      <td>NAO</td>\n",
       "      <td>700.0</td>\n",
       "      <td>620.237625</td>\n",
       "      <td>434166.34</td>\n",
       "    </tr>\n",
       "    <tr>\n",
       "      <td>1</td>\n",
       "      <td>2018-10-16</td>\n",
       "      <td>2019-06-14</td>\n",
       "      <td>052922</td>\n",
       "      <td>I8I9BA</td>\n",
       "      <td>F3</td>\n",
       "      <td>FRUISEC S.A</td>\n",
       "      <td>EX</td>\n",
       "      <td>EXTERIOR</td>\n",
       "      <td>FRANCA</td>\n",
       "      <td>ATACADO</td>\n",
       "      <td>...</td>\n",
       "      <td>143.470571</td>\n",
       "      <td>100429.4</td>\n",
       "      <td>42596</td>\n",
       "      <td>1</td>\n",
       "      <td>2019-07-10</td>\n",
       "      <td>7101</td>\n",
       "      <td>NAO</td>\n",
       "      <td>700.0</td>\n",
       "      <td>608.573468</td>\n",
       "      <td>426001.43</td>\n",
       "    </tr>\n",
       "    <tr>\n",
       "      <td>1</td>\n",
       "      <td>2018-10-16</td>\n",
       "      <td>2019-08-16</td>\n",
       "      <td>052925</td>\n",
       "      <td>I8I9BA</td>\n",
       "      <td>F3</td>\n",
       "      <td>FRUISEC S.A</td>\n",
       "      <td>EX</td>\n",
       "      <td>EXTERIOR</td>\n",
       "      <td>FRANCA</td>\n",
       "      <td>ATACADO</td>\n",
       "      <td>...</td>\n",
       "      <td>143.566285</td>\n",
       "      <td>100496.4</td>\n",
       "      <td>43070</td>\n",
       "      <td>1</td>\n",
       "      <td>2019-09-11</td>\n",
       "      <td>7101</td>\n",
       "      <td>NAO</td>\n",
       "      <td>700.0</td>\n",
       "      <td>651.575584</td>\n",
       "      <td>456102.91</td>\n",
       "    </tr>\n",
       "  </tbody>\n",
       "</table>\n",
       "<p>3 rows × 36 columns</p>\n",
       "</div>"
      ],
      "text/plain": [
       "       EMISSAO_PEDIDO ENTREGA_PEDIDO  PEDIDO CODIGO_CLIENTE LOJA_CLIENTE  \\\n",
       "FILIAL                                                                     \n",
       "1          2018-10-16     2019-04-18  052921         I8I9BA           F3   \n",
       "1          2018-10-16     2019-06-14  052922         I8I9BA           F3   \n",
       "1          2018-10-16     2019-08-16  052925         I8I9BA           F3   \n",
       "\n",
       "       NOME_CLIENTE ESTADO_CLIENTE CIDADE_CLIENTE    PAIS SEGMENTO  ...  \\\n",
       "FILIAL                                                              ...   \n",
       "1       FRUISEC S.A             EX       EXTERIOR  FRANCA  ATACADO  ...   \n",
       "1       FRUISEC S.A             EX       EXTERIOR  FRANCA  ATACADO  ...   \n",
       "1       FRUISEC S.A             EX       EXTERIOR  FRANCA  ATACADO  ...   \n",
       "\n",
       "       VL_UNIT_VENDIDO VL_TOTAL_VENDIDO  NOTA_FISCAL SERIE_NOTA EMISSAO_NOTA  \\\n",
       "FILIAL                                                                         \n",
       "1           143.470571         100429.4        41665          1   2019-04-12   \n",
       "1           143.470571         100429.4        42596          1   2019-07-10   \n",
       "1           143.566285         100496.4        43070          1   2019-09-11   \n",
       "\n",
       "        CFOP BONIFICACAO QTDE_FATURADA  VL_UNIT_FATURADO VL_TOTAL_FATURADO  \n",
       "FILIAL                                                                      \n",
       "1       7101         NAO         700.0        620.237625         434166.34  \n",
       "1       7101         NAO         700.0        608.573468         426001.43  \n",
       "1       7101         NAO         700.0        651.575584         456102.91  \n",
       "\n",
       "[3 rows x 36 columns]"
      ]
     },
     "execution_count": 19,
     "metadata": {},
     "output_type": "execute_result"
    }
   ],
   "source": [
    "df.head(3)"
   ]
  },
  {
   "cell_type": "code",
   "execution_count": 47,
   "metadata": {},
   "outputs": [],
   "source": [
    "df = df[df.LINHA != 'GRANEL']\n",
    "df = df[df.ESTADO_CLIENTE != 'EX']"
   ]
  },
  {
   "cell_type": "code",
   "execution_count": 48,
   "metadata": {},
   "outputs": [
    {
     "data": {
      "text/plain": [
       "array([nan, 'NUTS CLUB', 'EMPORIO', 'SWEET NUTS', 'FOOD SERVICE',\n",
       "       'CAJUMIL', 'IRACEMA'], dtype=object)"
      ]
     },
     "execution_count": 48,
     "metadata": {},
     "output_type": "execute_result"
    }
   ],
   "source": [
    "df.LINHA.unique()"
   ]
  },
  {
   "cell_type": "code",
   "execution_count": 51,
   "metadata": {},
   "outputs": [],
   "source": [
    "df.insert(1, 'cod', np.nan)"
   ]
  },
  {
   "cell_type": "code",
   "execution_count": 54,
   "metadata": {},
   "outputs": [
    {
     "data": {
      "text/plain": [
       "EMISSAO_PEDIDO           285\n",
       "cod                        0\n",
       "ENTREGA_PEDIDO           302\n",
       "PEDIDO                  3810\n",
       "CODIGO_CLIENTE           304\n",
       "LOJA_CLIENTE             186\n",
       "NOME_CLIENTE             308\n",
       "ESTADO_CLIENTE            27\n",
       "CIDADE_CLIENTE           189\n",
       "PAIS                       1\n",
       "SEGMENTO                  34\n",
       "REGIAO                     5\n",
       "CANAL                      2\n",
       "CODIGO_REPRESENTANTE      38\n",
       "NOME_REPRESENTANTE        38\n",
       "TRANSPORTADORA            30\n",
       "MERCADO                    2\n",
       "LINHA                      6\n",
       "ITEM_PV                  226\n",
       "CODIGO_PRODUTO           245\n",
       "NOME_PRODUTO             246\n",
       "CODIGO_GRUPO              39\n",
       "NOME_GRUPO                39\n",
       "NCM                      108\n",
       "TIPO                       6\n",
       "PESO                      19\n",
       "QTDE_VENDIDA            1650\n",
       "VL_UNIT_VENDIDO         1782\n",
       "VL_TOTAL_VENDIDO        4994\n",
       "NOTA_FISCAL             3810\n",
       "SERIE_NOTA                 1\n",
       "EMISSAO_NOTA             273\n",
       "CFOP                      22\n",
       "BONIFICACAO                2\n",
       "QTDE_FATURADA           1650\n",
       "VL_UNIT_FATURADO        1960\n",
       "VL_TOTAL_FATURADO       5113\n",
       "dtype: int64"
      ]
     },
     "execution_count": 54,
     "metadata": {},
     "output_type": "execute_result"
    }
   ],
   "source": [
    "df.nunique()"
   ]
  },
  {
   "cell_type": "code",
   "execution_count": 55,
   "metadata": {},
   "outputs": [
    {
     "name": "stdout",
     "output_type": "stream",
     "text": [
      "<class 'pandas.core.frame.DataFrame'>\n",
      "Int64Index: 10445 entries, 1 to 5\n",
      "Data columns (total 37 columns):\n",
      "EMISSAO_PEDIDO          10445 non-null datetime64[ns]\n",
      "cod                     0 non-null float64\n",
      "ENTREGA_PEDIDO          10445 non-null datetime64[ns]\n",
      "PEDIDO                  10445 non-null object\n",
      "CODIGO_CLIENTE          10445 non-null object\n",
      "LOJA_CLIENTE            10445 non-null object\n",
      "NOME_CLIENTE            10445 non-null object\n",
      "ESTADO_CLIENTE          10445 non-null object\n",
      "CIDADE_CLIENTE          10445 non-null object\n",
      "PAIS                    10445 non-null object\n",
      "SEGMENTO                10445 non-null object\n",
      "REGIAO                  10445 non-null object\n",
      "CANAL                   9466 non-null object\n",
      "CODIGO_REPRESENTANTE    10445 non-null float64\n",
      "NOME_REPRESENTANTE      10445 non-null object\n",
      "TRANSPORTADORA          7713 non-null object\n",
      "MERCADO                 10445 non-null object\n",
      "LINHA                   7927 non-null object\n",
      "ITEM_PV                 10445 non-null object\n",
      "CODIGO_PRODUTO          10445 non-null int64\n",
      "NOME_PRODUTO            10445 non-null object\n",
      "CODIGO_GRUPO            10445 non-null int64\n",
      "NOME_GRUPO              10445 non-null object\n",
      "NCM                     10445 non-null int64\n",
      "TIPO                    10445 non-null int64\n",
      "PESO                    10445 non-null float64\n",
      "QTDE_VENDIDA            10445 non-null float64\n",
      "VL_UNIT_VENDIDO         10445 non-null float64\n",
      "VL_TOTAL_VENDIDO        10445 non-null float64\n",
      "NOTA_FISCAL             10445 non-null int64\n",
      "SERIE_NOTA              10445 non-null int64\n",
      "EMISSAO_NOTA            10445 non-null datetime64[ns]\n",
      "CFOP                    10445 non-null int64\n",
      "BONIFICACAO             10445 non-null object\n",
      "QTDE_FATURADA           10445 non-null float64\n",
      "VL_UNIT_FATURADO        10445 non-null float64\n",
      "VL_TOTAL_FATURADO       10445 non-null float64\n",
      "dtypes: datetime64[ns](3), float64(9), int64(7), object(18)\n",
      "memory usage: 2.3+ MB\n"
     ]
    }
   ],
   "source": [
    "df.info()"
   ]
  },
  {
   "cell_type": "code",
   "execution_count": 56,
   "metadata": {},
   "outputs": [
    {
     "data": {
      "text/plain": [
       "LINHA\n",
       "CAJUMIL          7049.000\n",
       "EMPORIO          6651.000\n",
       "FOOD SERVICE     6869.000\n",
       "IRACEMA         38174.000\n",
       "NUTS CLUB       56639.083\n",
       "SWEET NUTS       1768.000\n",
       "Name: QTDE_FATURADA, dtype: float64"
      ]
     },
     "execution_count": 56,
     "metadata": {},
     "output_type": "execute_result"
    }
   ],
   "source": [
    "df.groupby('LINHA')['QTDE_FATURADA'].sum()"
   ]
  },
  {
   "cell_type": "code",
   "execution_count": 73,
   "metadata": {},
   "outputs": [
    {
     "ename": "AttributeError",
     "evalue": "'Series' object has no attribute 'year'",
     "output_type": "error",
     "traceback": [
      "\u001b[1;31m--------------------------------------------------------------\u001b[0m",
      "\u001b[1;31mAttributeError\u001b[0m               Traceback (most recent call last)",
      "\u001b[1;32m<ipython-input-73-5ba979d54210>\u001b[0m in \u001b[0;36m<module>\u001b[1;34m\u001b[0m\n\u001b[1;32m----> 1\u001b[1;33m \u001b[0mdf\u001b[0m\u001b[1;33m.\u001b[0m\u001b[0minsert\u001b[0m\u001b[1;33m(\u001b[0m\u001b[1;36m1\u001b[0m\u001b[1;33m,\u001b[0m \u001b[1;34m'ANO'\u001b[0m\u001b[1;33m,\u001b[0m \u001b[0mdf\u001b[0m\u001b[1;33m.\u001b[0m\u001b[0mEMISSAO_NOTA\u001b[0m\u001b[1;33m.\u001b[0m\u001b[0myear\u001b[0m\u001b[1;33m)\u001b[0m\u001b[1;33m\u001b[0m\u001b[1;33m\u001b[0m\u001b[0m\n\u001b[0m",
      "\u001b[1;32mc:\\users\\diego\\appdata\\local\\programs\\python\\python37-32\\lib\\site-packages\\pandas\\core\\generic.py\u001b[0m in \u001b[0;36m__getattr__\u001b[1;34m(self, name)\u001b[0m\n\u001b[0;32m   5177\u001b[0m             \u001b[1;32mif\u001b[0m \u001b[0mself\u001b[0m\u001b[1;33m.\u001b[0m\u001b[0m_info_axis\u001b[0m\u001b[1;33m.\u001b[0m\u001b[0m_can_hold_identifiers_and_holds_name\u001b[0m\u001b[1;33m(\u001b[0m\u001b[0mname\u001b[0m\u001b[1;33m)\u001b[0m\u001b[1;33m:\u001b[0m\u001b[1;33m\u001b[0m\u001b[1;33m\u001b[0m\u001b[0m\n\u001b[0;32m   5178\u001b[0m                 \u001b[1;32mreturn\u001b[0m \u001b[0mself\u001b[0m\u001b[1;33m[\u001b[0m\u001b[0mname\u001b[0m\u001b[1;33m]\u001b[0m\u001b[1;33m\u001b[0m\u001b[1;33m\u001b[0m\u001b[0m\n\u001b[1;32m-> 5179\u001b[1;33m             \u001b[1;32mreturn\u001b[0m \u001b[0mobject\u001b[0m\u001b[1;33m.\u001b[0m\u001b[0m__getattribute__\u001b[0m\u001b[1;33m(\u001b[0m\u001b[0mself\u001b[0m\u001b[1;33m,\u001b[0m \u001b[0mname\u001b[0m\u001b[1;33m)\u001b[0m\u001b[1;33m\u001b[0m\u001b[1;33m\u001b[0m\u001b[0m\n\u001b[0m\u001b[0;32m   5180\u001b[0m \u001b[1;33m\u001b[0m\u001b[0m\n\u001b[0;32m   5181\u001b[0m     \u001b[1;32mdef\u001b[0m \u001b[0m__setattr__\u001b[0m\u001b[1;33m(\u001b[0m\u001b[0mself\u001b[0m\u001b[1;33m,\u001b[0m \u001b[0mname\u001b[0m\u001b[1;33m,\u001b[0m \u001b[0mvalue\u001b[0m\u001b[1;33m)\u001b[0m\u001b[1;33m:\u001b[0m\u001b[1;33m\u001b[0m\u001b[1;33m\u001b[0m\u001b[0m\n",
      "\u001b[1;31mAttributeError\u001b[0m: 'Series' object has no attribute 'year'"
     ]
    }
   ],
   "source": [
    "df.insert(1, 'ANO', df.EMISSAO_NOTA.year)"
   ]
  },
  {
   "cell_type": "code",
   "execution_count": 67,
   "metadata": {},
   "outputs": [],
   "source": []
  },
  {
   "cell_type": "code",
   "execution_count": 72,
   "metadata": {},
   "outputs": [
    {
     "ename": "KeyError",
     "evalue": "0",
     "output_type": "error",
     "traceback": [
      "\u001b[1;31m--------------------------------------------------------------\u001b[0m",
      "\u001b[1;31mKeyError\u001b[0m                     Traceback (most recent call last)",
      "\u001b[1;32m<ipython-input-72-cd2982b65824>\u001b[0m in \u001b[0;36m<module>\u001b[1;34m\u001b[0m\n\u001b[1;32m----> 1\u001b[1;33m \u001b[0ma\u001b[0m\u001b[1;33m[\u001b[0m\u001b[1;36m0\u001b[0m\u001b[1;33m]\u001b[0m\u001b[1;33m[\u001b[0m\u001b[1;36m1\u001b[0m\u001b[1;33m]\u001b[0m\u001b[1;33m\u001b[0m\u001b[1;33m\u001b[0m\u001b[0m\n\u001b[0m",
      "\u001b[1;32mc:\\users\\diego\\appdata\\local\\programs\\python\\python37-32\\lib\\site-packages\\pandas\\core\\series.py\u001b[0m in \u001b[0;36m__getitem__\u001b[1;34m(self, key)\u001b[0m\n\u001b[0;32m   1066\u001b[0m         \u001b[0mkey\u001b[0m \u001b[1;33m=\u001b[0m \u001b[0mcom\u001b[0m\u001b[1;33m.\u001b[0m\u001b[0mapply_if_callable\u001b[0m\u001b[1;33m(\u001b[0m\u001b[0mkey\u001b[0m\u001b[1;33m,\u001b[0m \u001b[0mself\u001b[0m\u001b[1;33m)\u001b[0m\u001b[1;33m\u001b[0m\u001b[1;33m\u001b[0m\u001b[0m\n\u001b[0;32m   1067\u001b[0m         \u001b[1;32mtry\u001b[0m\u001b[1;33m:\u001b[0m\u001b[1;33m\u001b[0m\u001b[1;33m\u001b[0m\u001b[0m\n\u001b[1;32m-> 1068\u001b[1;33m             \u001b[0mresult\u001b[0m \u001b[1;33m=\u001b[0m \u001b[0mself\u001b[0m\u001b[1;33m.\u001b[0m\u001b[0mindex\u001b[0m\u001b[1;33m.\u001b[0m\u001b[0mget_value\u001b[0m\u001b[1;33m(\u001b[0m\u001b[0mself\u001b[0m\u001b[1;33m,\u001b[0m \u001b[0mkey\u001b[0m\u001b[1;33m)\u001b[0m\u001b[1;33m\u001b[0m\u001b[1;33m\u001b[0m\u001b[0m\n\u001b[0m\u001b[0;32m   1069\u001b[0m \u001b[1;33m\u001b[0m\u001b[0m\n\u001b[0;32m   1070\u001b[0m             \u001b[1;32mif\u001b[0m \u001b[1;32mnot\u001b[0m \u001b[0mis_scalar\u001b[0m\u001b[1;33m(\u001b[0m\u001b[0mresult\u001b[0m\u001b[1;33m)\u001b[0m\u001b[1;33m:\u001b[0m\u001b[1;33m\u001b[0m\u001b[1;33m\u001b[0m\u001b[0m\n",
      "\u001b[1;32mc:\\users\\diego\\appdata\\local\\programs\\python\\python37-32\\lib\\site-packages\\pandas\\core\\indexes\\base.py\u001b[0m in \u001b[0;36mget_value\u001b[1;34m(self, series, key)\u001b[0m\n\u001b[0;32m   4728\u001b[0m         \u001b[0mk\u001b[0m \u001b[1;33m=\u001b[0m \u001b[0mself\u001b[0m\u001b[1;33m.\u001b[0m\u001b[0m_convert_scalar_indexer\u001b[0m\u001b[1;33m(\u001b[0m\u001b[0mk\u001b[0m\u001b[1;33m,\u001b[0m \u001b[0mkind\u001b[0m\u001b[1;33m=\u001b[0m\u001b[1;34m\"getitem\"\u001b[0m\u001b[1;33m)\u001b[0m\u001b[1;33m\u001b[0m\u001b[1;33m\u001b[0m\u001b[0m\n\u001b[0;32m   4729\u001b[0m         \u001b[1;32mtry\u001b[0m\u001b[1;33m:\u001b[0m\u001b[1;33m\u001b[0m\u001b[1;33m\u001b[0m\u001b[0m\n\u001b[1;32m-> 4730\u001b[1;33m             \u001b[1;32mreturn\u001b[0m \u001b[0mself\u001b[0m\u001b[1;33m.\u001b[0m\u001b[0m_engine\u001b[0m\u001b[1;33m.\u001b[0m\u001b[0mget_value\u001b[0m\u001b[1;33m(\u001b[0m\u001b[0ms\u001b[0m\u001b[1;33m,\u001b[0m \u001b[0mk\u001b[0m\u001b[1;33m,\u001b[0m \u001b[0mtz\u001b[0m\u001b[1;33m=\u001b[0m\u001b[0mgetattr\u001b[0m\u001b[1;33m(\u001b[0m\u001b[0mseries\u001b[0m\u001b[1;33m.\u001b[0m\u001b[0mdtype\u001b[0m\u001b[1;33m,\u001b[0m \u001b[1;34m\"tz\"\u001b[0m\u001b[1;33m,\u001b[0m \u001b[1;32mNone\u001b[0m\u001b[1;33m)\u001b[0m\u001b[1;33m)\u001b[0m\u001b[1;33m\u001b[0m\u001b[1;33m\u001b[0m\u001b[0m\n\u001b[0m\u001b[0;32m   4731\u001b[0m         \u001b[1;32mexcept\u001b[0m \u001b[0mKeyError\u001b[0m \u001b[1;32mas\u001b[0m \u001b[0me1\u001b[0m\u001b[1;33m:\u001b[0m\u001b[1;33m\u001b[0m\u001b[1;33m\u001b[0m\u001b[0m\n\u001b[0;32m   4732\u001b[0m             \u001b[1;32mif\u001b[0m \u001b[0mlen\u001b[0m\u001b[1;33m(\u001b[0m\u001b[0mself\u001b[0m\u001b[1;33m)\u001b[0m \u001b[1;33m>\u001b[0m \u001b[1;36m0\u001b[0m \u001b[1;32mand\u001b[0m \u001b[1;33m(\u001b[0m\u001b[0mself\u001b[0m\u001b[1;33m.\u001b[0m\u001b[0mholds_integer\u001b[0m\u001b[1;33m(\u001b[0m\u001b[1;33m)\u001b[0m \u001b[1;32mor\u001b[0m \u001b[0mself\u001b[0m\u001b[1;33m.\u001b[0m\u001b[0mis_boolean\u001b[0m\u001b[1;33m(\u001b[0m\u001b[1;33m)\u001b[0m\u001b[1;33m)\u001b[0m\u001b[1;33m:\u001b[0m\u001b[1;33m\u001b[0m\u001b[1;33m\u001b[0m\u001b[0m\n",
      "\u001b[1;32mpandas\\_libs\\index.pyx\u001b[0m in \u001b[0;36mpandas._libs.index.IndexEngine.get_value\u001b[1;34m()\u001b[0m\n",
      "\u001b[1;32mpandas\\_libs\\index.pyx\u001b[0m in \u001b[0;36mpandas._libs.index.IndexEngine.get_value\u001b[1;34m()\u001b[0m\n",
      "\u001b[1;32mpandas\\_libs\\index.pyx\u001b[0m in \u001b[0;36mpandas._libs.index.IndexEngine.get_loc\u001b[1;34m()\u001b[0m\n",
      "\u001b[1;32mpandas\\_libs\\index.pyx\u001b[0m in \u001b[0;36mpandas._libs.index.IndexEngine._get_loc_duplicates\u001b[1;34m()\u001b[0m\n",
      "\u001b[1;31mKeyError\u001b[0m: 0"
     ]
    }
   ],
   "source": []
  },
  {
   "cell_type": "code",
   "execution_count": null,
   "metadata": {},
   "outputs": [],
   "source": []
  }
 ],
 "metadata": {
  "kernelspec": {
   "display_name": "Python 3",
   "language": "python",
   "name": "python3"
  },
  "language_info": {
   "codemirror_mode": {
    "name": "ipython",
    "version": 3
   },
   "file_extension": ".py",
   "mimetype": "text/x-python",
   "name": "python",
   "nbconvert_exporter": "python",
   "pygments_lexer": "ipython3",
   "version": "3.7.3"
  }
 },
 "nbformat": 4,
 "nbformat_minor": 2
}
