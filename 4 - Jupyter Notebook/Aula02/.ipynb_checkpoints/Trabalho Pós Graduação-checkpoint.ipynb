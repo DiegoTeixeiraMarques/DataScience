{
 "cells": [
  {
   "cell_type": "code",
   "execution_count": 2,
   "metadata": {},
   "outputs": [],
   "source": [
    "# Importando os módulos\n",
    "\n",
    "import pandas as pd\n",
    "#import nltk"
   ]
  },
  {
   "cell_type": "code",
   "execution_count": 4,
   "metadata": {},
   "outputs": [],
   "source": [
    "# Colocando os dados em DataFrame\n",
    "\n",
    "df_bo = pd.read_json('jairbolsonaro.json')\n",
    "df_lu = pd.read_json('LulaOficial.json')"
   ]
  },
  {
   "cell_type": "code",
   "execution_count": 155,
   "metadata": {},
   "outputs": [
    {
     "data": {
      "text/html": [
       "<div>\n",
       "<style scoped>\n",
       "    .dataframe tbody tr th:only-of-type {\n",
       "        vertical-align: middle;\n",
       "    }\n",
       "\n",
       "    .dataframe tbody tr th {\n",
       "        vertical-align: top;\n",
       "    }\n",
       "\n",
       "    .dataframe thead th {\n",
       "        text-align: right;\n",
       "    }\n",
       "</style>\n",
       "<table border=\"1\" class=\"dataframe\">\n",
       "  <thead>\n",
       "    <tr style=\"text-align: right;\">\n",
       "      <th></th>\n",
       "      <th>Qtd de linhas</th>\n",
       "      <th>Qtd de colunas</th>\n",
       "      <th>Qtd de elementos</th>\n",
       "      <th>Qtd de valores Nulos</th>\n",
       "      <th>Valores Nulos (%)</th>\n",
       "    </tr>\n",
       "  </thead>\n",
       "  <tbody>\n",
       "    <tr>\n",
       "      <td>Bolsonaro</td>\n",
       "      <td>6794</td>\n",
       "      <td>30</td>\n",
       "      <td>203820</td>\n",
       "      <td>87810</td>\n",
       "      <td>43.08</td>\n",
       "    </tr>\n",
       "    <tr>\n",
       "      <td>Lula</td>\n",
       "      <td>14961</td>\n",
       "      <td>30</td>\n",
       "      <td>448830</td>\n",
       "      <td>211346</td>\n",
       "      <td>47.09</td>\n",
       "    </tr>\n",
       "  </tbody>\n",
       "</table>\n",
       "</div>"
      ],
      "text/plain": [
       "           Qtd de linhas  Qtd de colunas  Qtd de elementos  \\\n",
       "Bolsonaro           6794              30            203820   \n",
       "Lula               14961              30            448830   \n",
       "\n",
       "           Qtd de valores Nulos  Valores Nulos (%)  \n",
       "Bolsonaro                 87810              43.08  \n",
       "Lula                     211346              47.09  "
      ]
     },
     "execution_count": 155,
     "metadata": {},
     "output_type": "execute_result"
    }
   ],
   "source": [
    "# Conhecendo os Dataframes\n",
    "\n",
    "# Calculando quantidade de valores nulos no DataFrame\n",
    "A = df_lu.isnull().sum()\n",
    "B = df_bo.isnull().sum()\n",
    "countNull_Lula = 0\n",
    "countNull_Bols = 0\n",
    "for i in range(A.shape[0]):\n",
    "    countNull_Lula = A[i] + countNull_Lula\n",
    "    countNull_Bols = B[i] + countNull_Bols\n",
    "\n",
    "# Atribuindo informações de quantidade: linhas, colunas e dados\n",
    "qtdLinhas_Lula = df_lu.shape[0]\n",
    "qtdLinhas_Bols = df_bo.shape[0]\n",
    "qtdColunas_Lula = df_lu.shape[1]\n",
    "qtdColunas_Bols = df_bo.shape[1]\n",
    "qtdDados_Lula = df_lu.size\n",
    "qtdDados_Bols = df_bo.size\n",
    "percente_nulos_Lu = round((countNull_Lula / qtdDados_Lula) * 100, 2)\n",
    "percente_nulos_Bo = round((countNull_Bols / qtdDados_Bols) * 100, 2)\n",
    "\n",
    "# Criando um DataFrame com as informações\n",
    "infoDFs = pd.DataFrame({'Qtd de linhas': \n",
    "                              {'Bolsonaro': qtdLinhas_Bols, \n",
    "                               'Lula': qtdLinhas_Lula}, \n",
    "                          'Qtd de colunas': \n",
    "                              {'Bolsonaro': qtdColunas_Bols, \n",
    "                               'Lula': qtdColunas_Lula},\n",
    "                          'Qtd de elementos': \n",
    "                              {'Bolsonaro': qtdDados_Bols, \n",
    "                               'Lula': qtdDados_Lula},\n",
    "                          'Qtd de valores Nulos':\n",
    "                              {'Bolsonaro': countNull_Bols,\n",
    "                                'Lula': countNull_Lula},\n",
    "                          'Valores Nulos (%)':\n",
    "                              {'Bolsonaro': percente_nulos_Bo,\n",
    "                                'Lula': percente_nulos_Lu}\n",
    "                         })\n",
    "infoDFs"
   ]
  },
  {
   "cell_type": "code",
   "execution_count": 185,
   "metadata": {},
   "outputs": [
    {
     "ename": "AttributeError",
     "evalue": "'Series' object has no attribute 'year'",
     "output_type": "error",
     "traceback": [
      "\u001b[1;31m---------------------------------------------------------------------------\u001b[0m",
      "\u001b[1;31mAttributeError\u001b[0m                            Traceback (most recent call last)",
      "\u001b[1;32m<ipython-input-185-a2b088f19c9c>\u001b[0m in \u001b[0;36m<module>\u001b[1;34m\u001b[0m\n\u001b[0;32m      2\u001b[0m \u001b[1;32mfrom\u001b[0m \u001b[0mdatetime\u001b[0m \u001b[1;32mimport\u001b[0m \u001b[0mdatetime\u001b[0m\u001b[1;33m\u001b[0m\u001b[1;33m\u001b[0m\u001b[0m\n\u001b[0;32m      3\u001b[0m \u001b[1;33m\u001b[0m\u001b[0m\n\u001b[1;32m----> 4\u001b[1;33m \u001b[0mdatas\u001b[0m \u001b[1;33m=\u001b[0m \u001b[0mpd\u001b[0m\u001b[1;33m.\u001b[0m\u001b[0mSeries\u001b[0m\u001b[1;33m(\u001b[0m\u001b[0mdf_lu\u001b[0m\u001b[1;33m.\u001b[0m\u001b[0mcreated_at\u001b[0m\u001b[1;33m.\u001b[0m\u001b[0myear\u001b[0m\u001b[1;33m)\u001b[0m\u001b[1;33m\u001b[0m\u001b[1;33m\u001b[0m\u001b[0m\n\u001b[0m\u001b[0;32m      5\u001b[0m \u001b[1;33m\u001b[0m\u001b[0m\n\u001b[0;32m      6\u001b[0m \u001b[0mdatas\u001b[0m\u001b[1;33m[\u001b[0m\u001b[1;36m0\u001b[0m\u001b[1;33m]\u001b[0m\u001b[1;33m\u001b[0m\u001b[1;33m\u001b[0m\u001b[0m\n",
      "\u001b[1;32mc:\\users\\diego\\appdata\\local\\programs\\python\\python37-32\\lib\\site-packages\\pandas\\core\\generic.py\u001b[0m in \u001b[0;36m__getattr__\u001b[1;34m(self, name)\u001b[0m\n\u001b[0;32m   5177\u001b[0m             \u001b[1;32mif\u001b[0m \u001b[0mself\u001b[0m\u001b[1;33m.\u001b[0m\u001b[0m_info_axis\u001b[0m\u001b[1;33m.\u001b[0m\u001b[0m_can_hold_identifiers_and_holds_name\u001b[0m\u001b[1;33m(\u001b[0m\u001b[0mname\u001b[0m\u001b[1;33m)\u001b[0m\u001b[1;33m:\u001b[0m\u001b[1;33m\u001b[0m\u001b[1;33m\u001b[0m\u001b[0m\n\u001b[0;32m   5178\u001b[0m                 \u001b[1;32mreturn\u001b[0m \u001b[0mself\u001b[0m\u001b[1;33m[\u001b[0m\u001b[0mname\u001b[0m\u001b[1;33m]\u001b[0m\u001b[1;33m\u001b[0m\u001b[1;33m\u001b[0m\u001b[0m\n\u001b[1;32m-> 5179\u001b[1;33m             \u001b[1;32mreturn\u001b[0m \u001b[0mobject\u001b[0m\u001b[1;33m.\u001b[0m\u001b[0m__getattribute__\u001b[0m\u001b[1;33m(\u001b[0m\u001b[0mself\u001b[0m\u001b[1;33m,\u001b[0m \u001b[0mname\u001b[0m\u001b[1;33m)\u001b[0m\u001b[1;33m\u001b[0m\u001b[1;33m\u001b[0m\u001b[0m\n\u001b[0m\u001b[0;32m   5180\u001b[0m \u001b[1;33m\u001b[0m\u001b[0m\n\u001b[0;32m   5181\u001b[0m     \u001b[1;32mdef\u001b[0m \u001b[0m__setattr__\u001b[0m\u001b[1;33m(\u001b[0m\u001b[0mself\u001b[0m\u001b[1;33m,\u001b[0m \u001b[0mname\u001b[0m\u001b[1;33m,\u001b[0m \u001b[0mvalue\u001b[0m\u001b[1;33m)\u001b[0m\u001b[1;33m:\u001b[0m\u001b[1;33m\u001b[0m\u001b[1;33m\u001b[0m\u001b[0m\n",
      "\u001b[1;31mAttributeError\u001b[0m: 'Series' object has no attribute 'year'"
     ]
    }
   ],
   "source": [
    "# Coletando os Twetters\n",
    "from datetime import datetime\n",
    "\n",
    "for i in range()\n",
    "\n",
    "datas = pd.Series(df_lu.created_at.year)\n",
    "\n",
    "datas[0]\n"
   ]
  },
  {
   "cell_type": "code",
   "execution_count": 30,
   "metadata": {},
   "outputs": [
    {
     "name": "stdout",
     "output_type": "stream",
     "text": [
      "0\n",
      "1\n",
      "2\n",
      "3\n",
      "4\n",
      "5\n",
      "6\n",
      "7\n",
      "8\n",
      "9\n",
      "10\n",
      "11\n",
      "12\n",
      "13\n",
      "14\n",
      "15\n",
      "16\n",
      "17\n",
      "18\n",
      "19\n",
      "20\n",
      "21\n",
      "22\n",
      "23\n",
      "24\n",
      "25\n",
      "26\n",
      "27\n",
      "28\n",
      "29\n"
     ]
    }
   ],
   "source": [
    "A = df_bo.isnull().sum()\n",
    "\n",
    "for i in range(len(A)):\n",
    "    countNull_bo = A[i] + countNull_bo"
   ]
  },
  {
   "cell_type": "code",
   "execution_count": null,
   "metadata": {},
   "outputs": [],
   "source": []
  }
 ],
 "metadata": {
  "kernelspec": {
   "display_name": "Python 3",
   "language": "python",
   "name": "python3"
  },
  "language_info": {
   "codemirror_mode": {
    "name": "ipython",
    "version": 3
   },
   "file_extension": ".py",
   "mimetype": "text/x-python",
   "name": "python",
   "nbconvert_exporter": "python",
   "pygments_lexer": "ipython3",
   "version": "3.7.3"
  }
 },
 "nbformat": 4,
 "nbformat_minor": 2
}
